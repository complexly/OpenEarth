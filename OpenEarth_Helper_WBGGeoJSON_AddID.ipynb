{
 "cells": [
  {
   "cell_type": "code",
   "execution_count": 9,
   "metadata": {
    "collapsed": true
   },
   "outputs": [],
   "source": [
    "# JSON\n",
    "import json\n",
    "\n",
    "# Pandas\n",
    "from pandas import Series, DataFrame\n",
    "from pandas.io.json import json_normalize\n",
    "import pandas as pd\n",
    "\n",
    "# Geopandas\n",
    "import geopandas as gpd\n",
    "from geopandas import GeoDataFrame\n",
    "\n",
    "# Folium for quick visualization on Leaflet map\n",
    "import folium\n",
    "\n",
    "# Import other Python packages we need\n",
    "from geojson import FeatureCollection, Feature, Polygon, Point\n",
    "import os, fnmatch, sys, datetime, time, itertools, fiona\n",
    "from time import sleep \n",
    "from IPython.display import Image, HTML\n",
    "import re\n",
    "from IPython.core.display import display, HTML"
   ]
  },
  {
   "cell_type": "code",
   "execution_count": 10,
   "metadata": {
    "collapsed": true
   },
   "outputs": [],
   "source": [
    "# Define paths to input and output files\n",
    "POLYGON_PATH = 'static/polygons' \n",
    "POLYGON_FILE = 'wb_geo.geojson' # World Bank boundaries"
   ]
  },
  {
   "cell_type": "markdown",
   "metadata": {},
   "source": [
    "Add unique ID"
   ]
  },
  {
   "cell_type": "code",
   "execution_count": 15,
   "metadata": {
    "collapsed": false
   },
   "outputs": [],
   "source": [
    "# Open \n",
    "wbgeojson = json.load(open(POLYGON_PATH + '/' + POLYGON_FILE))\n",
    "\n",
    "# Add unique ID to all features\n",
    "i = 0\n",
    "for feature in wbgeojson['features']:\n",
    "    i += 1\n",
    "    feature['properties'].update({\"uid\": 'j' + str(i)})\n"
   ]
  },
  {
   "cell_type": "code",
   "execution_count": 16,
   "metadata": {
    "collapsed": true
   },
   "outputs": [],
   "source": [
    "with open(POLYGON_PATH + '/wb_geo_ee.geojson','w') as f:\n",
    "    json.dump(wbgeojson, f)"
   ]
  },
  {
   "cell_type": "code",
   "execution_count": null,
   "metadata": {
    "collapsed": true
   },
   "outputs": [],
   "source": []
  }
 ],
 "metadata": {
  "kernelspec": {
   "display_name": "Python 2",
   "language": "python",
   "name": "python2"
  },
  "language_info": {
   "codemirror_mode": {
    "name": "ipython",
    "version": 2
   },
   "file_extension": ".py",
   "mimetype": "text/x-python",
   "name": "python",
   "nbconvert_exporter": "python",
   "pygments_lexer": "ipython2",
   "version": "2.7.11"
  }
 },
 "nbformat": 4,
 "nbformat_minor": 0
}
