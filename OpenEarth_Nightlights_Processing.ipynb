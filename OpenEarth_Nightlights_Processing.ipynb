{
 "cells": [
  {
   "cell_type": "markdown",
   "metadata": {},
   "source": [
    "# Nightlights Generator\n",
    "\n",
    "---\n",
    "*Christian Johannes Meyer ([christian.meyer@eui.eu](christian.meyer@eui.eu)) and Espen Beer Prydz ([eprydz@worldbank.org](eprydz@worldbank.org))*\n",
    " \n",
    "Sept 2, 2016\n",
    "\n",
    "---\n",
    "\n",
    "This notebook proccesses the CSV file generated using [Google Earth Engine](https://earthengine.google.com) and saved in Google Drive.\n",
    "\n",
    "---"
   ]
  },
  {
   "cell_type": "markdown",
   "metadata": {},
   "source": [
    "## 1. Preliminary"
   ]
  },
  {
   "cell_type": "code",
   "execution_count": 1,
   "metadata": {
    "collapsed": true
   },
   "outputs": [],
   "source": [
    "%matplotlib inline"
   ]
  },
  {
   "cell_type": "markdown",
   "metadata": {},
   "source": [
    "#### Import relevant packages"
   ]
  },
  {
   "cell_type": "code",
   "execution_count": 2,
   "metadata": {
    "collapsed": false
   },
   "outputs": [],
   "source": [
    "# Pandas\n",
    "from pandas import Series, DataFrame\n",
    "import pandas as pd\n",
    "\n",
    "# Pandas datareader for WDI API access\n",
    "from pandas_datareader import wb as wdi\n",
    "\n",
    "# Other packages we may need\n",
    "import os, fnmatch, sys, datetime, time, itertools, fiona"
   ]
  },
  {
   "cell_type": "markdown",
   "metadata": {},
   "source": [
    "#### Parameters"
   ]
  },
  {
   "cell_type": "code",
   "execution_count": 3,
   "metadata": {
    "collapsed": false
   },
   "outputs": [],
   "source": [
    "# Define paths to input and output files\n",
    "CSV_PATH = 'output' \n",
    "GEOMETRY_PATH = 'static' \n",
    "\n",
    "# Imported files\n",
    "EEDATA_FILE = 'OpenEarth_Nightlights_GEEexport.csv'\n",
    "EEMETADATA_FILE = 'wb_geo_list.csv' # metadata for WB geometries\n",
    "\n",
    "# Exported files\n",
    "OUTPUTWBGEO_FILE = 'OpenEarth_Nightlights_byWBGeometry.csv'\n",
    "OUTPUTISO_FILE = 'OpenEarth_Nightlights_byWBiso3c.csv'\n",
    "\n",
    "# Source collection or image\n",
    "SOURCE = 'NOAA/DMSP-OLS/_NIGHTTIME_LIGHTS'\n",
    "\n",
    "# Settings for EE data\n",
    "# This should be changed in production\n",
    "REDUCTION_SCALE = 1000"
   ]
  },
  {
   "cell_type": "markdown",
   "metadata": {},
   "source": [
    "## 2. Get EE Data and Merge with Geometry Metadata"
   ]
  },
  {
   "cell_type": "markdown",
   "metadata": {},
   "source": [
    "Read in CSV files with EE data and geometry metadata"
   ]
  },
  {
   "cell_type": "code",
   "execution_count": 58,
   "metadata": {
    "collapsed": false
   },
   "outputs": [],
   "source": [
    "ee_data_df = pd.read_csv(CSV_PATH + '/' + EEDATA_FILE)\n",
    "ee_meta_df = pd.read_csv(GEOMETRY_PATH + '/' + EEMETADATA_FILE)"
   ]
  },
  {
   "cell_type": "code",
   "execution_count": 59,
   "metadata": {
    "collapsed": false,
    "scrolled": true
   },
   "outputs": [],
   "source": [
    "ee_data_df['sat'] = ee_data_df['system:index'].str[:3]\n",
    "ee_data_df['year'] = ee_data_df['system:index'].str[-4:]\n",
    "ee_data_df['ee_source'] = SOURCE\n",
    "ee_data_df['ee_reductionscale'] = REDUCTION_SCALE\n",
    "ee_data_df = ee_data_df.drop('.geo', 1)\n",
    "ee_data_df = ee_data_df.drop('time', 1)\n",
    "# df['date'] = map(lambda t: datetime.datetime.utcfromtimestamp(t/1000), df['time'])"
   ]
  },
  {
   "cell_type": "markdown",
   "metadata": {},
   "source": [
    "Wrangle EE data into better shape"
   ]
  },
  {
   "cell_type": "code",
   "execution_count": 61,
   "metadata": {
    "collapsed": false,
    "scrolled": true
   },
   "outputs": [],
   "source": [
    "# Reshape\n",
    "ee_data_df = pd.wide_to_long(ee_data_df, 'j', i='system:index',j='wbgeometry_uid')\n",
    "ee_data_df = ee_data_df.reset_index(level=['wbgeometry_uid'])\n",
    "# Clean up column names\n",
    "ee_data_df = ee_data_df.rename(columns={'j': 'ee_nightlights_sum'})"
   ]
  },
  {
   "cell_type": "markdown",
   "metadata": {},
   "source": [
    "Merge data extracted from Google Earth Engine with WB geometry metadata"
   ]
  },
  {
   "cell_type": "code",
   "execution_count": 173,
   "metadata": {
    "collapsed": false
   },
   "outputs": [],
   "source": [
    "ee_df = pd.merge(ee_data_df,ee_meta_df, how='outer', on='wbgeometry_uid')"
   ]
  },
  {
   "cell_type": "markdown",
   "metadata": {},
   "source": [
    "Set correct hierarchical index and export to CSV"
   ]
  },
  {
   "cell_type": "code",
   "execution_count": 174,
   "metadata": {
    "collapsed": false
   },
   "outputs": [],
   "source": [
    "ee_df.set_index(['wbgeometry_uid','year','sat']).to_csv(CSV_PATH + '/' + OUTPUTWBGEO_FILE, sep=',')"
   ]
  },
  {
   "cell_type": "markdown",
   "metadata": {},
   "source": [
    "## 3. Get Basic Indicators and Metadata from WDI"
   ]
  },
  {
   "cell_type": "markdown",
   "metadata": {},
   "source": [
    "Extract country metadata from WDI"
   ]
  },
  {
   "cell_type": "code",
   "execution_count": 64,
   "metadata": {
    "collapsed": true
   },
   "outputs": [],
   "source": [
    "wdi_meta_df = wdi.get_countries()\n",
    "wdi_meta_df.rename(columns = {'name':'country'}, inplace = True)"
   ]
  },
  {
   "cell_type": "markdown",
   "metadata": {},
   "source": [
    "Query a few indicators from WDI"
   ]
  },
  {
   "cell_type": "code",
   "execution_count": 191,
   "metadata": {
    "collapsed": false
   },
   "outputs": [],
   "source": [
    "wdi_indicators = ['SP.POP.TOTL', 'NY.GDP.PCAP.CD', 'NY.GNP.PCAP.CD', 'NY.GNP.PCAP.PP.CD','NY.GDP.PCAP.KD','NY.GDP.PCAP.PP.KD']\n",
    "wdi_data_df = wdi.download(indicator=wdi_indicators, country='all', start=2000, end=2013).dropna().reset_index()"
   ]
  },
  {
   "cell_type": "markdown",
   "metadata": {},
   "source": [
    "Merge data extracted from WDI API with WBI metadata"
   ]
  },
  {
   "cell_type": "code",
   "execution_count": 192,
   "metadata": {
    "collapsed": false,
    "scrolled": true
   },
   "outputs": [],
   "source": [
    "wdi_df = pd.merge(wdi_data_df,wdi_meta_df, how='outer', on='country')"
   ]
  },
  {
   "cell_type": "markdown",
   "metadata": {},
   "source": [
    "## 4. Merge EE data into WDI data"
   ]
  },
  {
   "cell_type": "markdown",
   "metadata": {},
   "source": [
    "We first need to aggregate night lights data from EE by iso3c, since some countries have several geometries in the WB GeoJSON file. We sum up lights by country."
   ]
  },
  {
   "cell_type": "code",
   "execution_count": 179,
   "metadata": {
    "collapsed": false
   },
   "outputs": [],
   "source": [
    "ee_df_grouped = ee_df.set_index(['iso3c','wbgeometry_uid','year','sat'])\n",
    "ee_df_grouped.sort_index(inplace=True)\n",
    "ee_df_grouped = ee_df_grouped.sum(level=['iso3c','year','sat'])[['ee_nightlights_sum']].reset_index()"
   ]
  },
  {
   "cell_type": "markdown",
   "metadata": {},
   "source": [
    "#### Merge grouped EE data with WDI data. \n",
    "For illustrative purposes, we use the intersection of keys from both frames (as opposed to keys from only WDI, only from EE, or the union)."
   ]
  },
  {
   "cell_type": "code",
   "execution_count": 202,
   "metadata": {
    "collapsed": false
   },
   "outputs": [],
   "source": [
    "df = pd.merge(wdi_df, ee_df_grouped, how='inner', on=['iso3c','year'])"
   ]
  },
  {
   "cell_type": "markdown",
   "metadata": {},
   "source": [
    "Export to CSV"
   ]
  },
  {
   "cell_type": "code",
   "execution_count": 203,
   "metadata": {
    "collapsed": false,
    "scrolled": true
   },
   "outputs": [],
   "source": [
    "df.to_csv(CSV_PATH + '/' + OUTPUTISO_FILE, sep=',', encoding='utf-8')"
   ]
  }
 ],
 "metadata": {
  "kernelspec": {
   "display_name": "Python 2",
   "language": "python",
   "name": "python2"
  },
  "language_info": {
   "codemirror_mode": {
    "name": "ipython",
    "version": 2
   },
   "file_extension": ".py",
   "mimetype": "text/x-python",
   "name": "python",
   "nbconvert_exporter": "python",
   "pygments_lexer": "ipython2",
   "version": "2.7.11"
  }
 },
 "nbformat": 4,
 "nbformat_minor": 0
}
